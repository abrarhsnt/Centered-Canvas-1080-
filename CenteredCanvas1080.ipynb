{
  "nbformat": 4,
  "nbformat_minor": 0,
  "metadata": {
    "colab": {
      "provenance": []
    },
    "kernelspec": {
      "name": "python3",
      "display_name": "Python 3"
    },
    "language_info": {
      "name": "python"
    }
  },
  "cells": [
    {
      "cell_type": "markdown",
      "source": [
        "**CenteredCanvas1080** is a simple Python tool that places each image from a selected folder onto a 1080x1080 white canvas at 72 DPI. Smaller images are centered without resizing. Larger images are scaled down so their largest dimension fits within 90% of the canvas, maintaining the original aspect ratio. All processed images are saved as PNGs in a png/ subfolder."
      ],
      "metadata": {
        "id": "B0v2vZ89_PdK"
      }
    },
    {
      "cell_type": "code",
      "execution_count": 1,
      "metadata": {
        "colab": {
          "base_uri": "https://localhost:8080/"
        },
        "id": "c0vGSX1J-vz-",
        "outputId": "5f1a4ae8-629f-4111-ff8f-0e832ab9e280"
      },
      "outputs": [
        {
          "output_type": "stream",
          "name": "stdout",
          "text": [
            "Mounted at /content/drive\n"
          ]
        }
      ],
      "source": [
        "\n",
        "from google.colab import drive\n",
        "drive.mount('/content/drive')\n"
      ]
    },
    {
      "cell_type": "code",
      "source": [
        "import os\n",
        "from PIL import Image\n",
        "\n",
        "# Manually set your input directory here\n",
        "input_dir = r\"/content/drive/MyDrive/Photo Editing/Edited in Lightroom\"\n",
        "\n",
        "# Output folder will be created inside the input folder\n",
        "output_dir = os.path.join(input_dir, \"output\")\n",
        "os.makedirs(output_dir, exist_ok=True)\n",
        "\n",
        "canvas_size = 1080\n",
        "dpi = (72, 72)\n",
        "\n",
        "for filename in os.listdir(input_dir):\n",
        "\n",
        "    if filename == \"output\":\n",
        "        continue\n",
        "\n",
        "    if not filename.lower().endswith((\".jpg\", \".jpeg\", \".png\", \".bmp\", \".tiff\")):\n",
        "        continue\n",
        "\n",
        "    img_path = os.path.join(input_dir, filename)\n",
        "    with Image.open(img_path) as img:\n",
        "        img = img.convert(\"RGBA\")\n",
        "        original_width, original_height = img.size\n",
        "\n",
        "        canvas = Image.new(\"RGBA\", (canvas_size, canvas_size), (255, 255, 255, 255))\n",
        "\n",
        "        if original_width <= canvas_size and original_height <= canvas_size:\n",
        "            x_offset = (canvas_size - original_width) // 2\n",
        "            y_offset = (canvas_size - original_height) // 2\n",
        "            canvas.paste(img, (x_offset, y_offset), img)\n",
        "        else:\n",
        "            max_dim = max(original_width, original_height)\n",
        "            scale_factor = (canvas_size * 0.8) / max_dim\n",
        "            new_width = int(original_width * scale_factor)\n",
        "            new_height = int(original_height * scale_factor)\n",
        "            resized_img = img.resize((new_width, new_height), Image.Resampling.LANCZOS)\n",
        "            x_offset = (canvas_size - new_width) // 2\n",
        "            y_offset = (canvas_size - new_height) // 2\n",
        "            canvas.paste(resized_img, (x_offset, y_offset), resized_img)\n",
        "\n",
        "        # Correctly closed string\n",
        "        output_filename = os.path.splitext(filename)[0] + \".png\"\n",
        "        output_path = os.path.join(output_dir, output_filename)\n",
        "        canvas.save(output_path, dpi=dpi)\n"
      ],
      "metadata": {
        "id": "2kV3cf1B_L8M"
      },
      "execution_count": 9,
      "outputs": []
    }
  ]
}